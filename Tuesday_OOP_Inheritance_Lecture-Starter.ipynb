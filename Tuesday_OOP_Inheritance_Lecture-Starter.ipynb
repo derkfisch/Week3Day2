{
 "cells": [
  {
   "cell_type": "markdown",
   "metadata": {},
   "source": [
    "# Object-Oriented-Programming (OOP)"
   ]
  },
  {
   "cell_type": "markdown",
   "metadata": {},
   "source": [
    "## Tasks Today:\n",
    "\n",
    "   \n",
    "1) <b>Dunder Methods</b> <br>\n",
    " &nbsp;&nbsp;&nbsp;&nbsp; a) The \\__str\\__() Method <br>\n",
    " &nbsp;&nbsp;&nbsp;&nbsp; b) The \\__repr\\__() Method <br>\n",
    " &nbsp;&nbsp;&nbsp;&nbsp; c) Other Magic Methods <br>\n",
    " &nbsp;&nbsp;&nbsp;&nbsp; d) In-Class Exercise #1 - Create a class Animal that displays the species and animal name when printed <br>  \n",
    "2) <b>Inheritance</b> <br>\n",
    " &nbsp;&nbsp;&nbsp;&nbsp; a) Syntax for Inheriting from a Parent Class <br>\n",
    " &nbsp;&nbsp;&nbsp;&nbsp; b) The \\__init\\__() Method for a Child Class (super()) <br>\n",
    " &nbsp;&nbsp;&nbsp;&nbsp; c) Defining Attributes and Methods for the Child Class <br>\n",
    " &nbsp;&nbsp;&nbsp;&nbsp; d) Method Overriding <br>\n",
    " &nbsp;&nbsp;&nbsp;&nbsp; e) In-Class Exercise #2 - Create a class 'Ford' that inherits from 'Car' class and initialize it as a Blue Ford Explorer with 4 wheels using the super() method <br>\n",
    "3) <b>Modules</b> <br>\n",
    " &nbsp;&nbsp;&nbsp;&nbsp; a) Importing Modules<br>\n",
    " &nbsp;&nbsp;&nbsp;&nbsp; b) Importing from modules <br>\n",
    " &nbsp;&nbsp;&nbsp;&nbsp; c) Aliasing <br>\n",
    " &nbsp;&nbsp;&nbsp;&nbsp; d) Creating Modules <br>\n"
   ]
  },
  {
   "cell_type": "markdown",
   "metadata": {},
   "source": [
    "### Warm Up"
   ]
  },
  {
   "cell_type": "markdown",
   "metadata": {},
   "source": [
    "Create a class for a Book that has instance attributes for `title`, `author`, `num_of_pages`, and `price`. Each book instance should also have a `current_page` attribute that starts at 0. Add a method called `read` that takes in number of pages. The method should update the what the current page is. If the `current_page` goes over the `num_of_pages`, print that the book is finished and reset the `current_page` to 0"
   ]
  },
  {
   "cell_type": "code",
   "execution_count": 18,
   "metadata": {},
   "outputs": [
    {
     "ename": "SyntaxError",
     "evalue": "EOL while scanning string literal (537511765.py, line 17)",
     "output_type": "error",
     "traceback": [
      "\u001b[1;36m  File \u001b[1;32m\"C:\\Users\\fisch\\AppData\\Local\\Temp\\ipykernel_2428\\537511765.py\"\u001b[1;36m, line \u001b[1;32m17\u001b[0m\n\u001b[1;33m    print(f\"You are currently on page {self.current_page}. There are {self.num_of_pages - self.current_pages} pages left.)\u001b[0m\n\u001b[1;37m                                                                                                                          ^\u001b[0m\n\u001b[1;31mSyntaxError\u001b[0m\u001b[1;31m:\u001b[0m EOL while scanning string literal\n"
     ]
    }
   ],
   "source": [
    "class Book:\n",
    "    \n",
    "    def __init__(self, title, author, num_of_pages, price):\n",
    "        self.title = title\n",
    "        self.author = author\n",
    "        self.num_of_pages = num_of_pages\n",
    "        self.price = price\n",
    "        self.current_page = 0\n",
    "        print(f\"Congratulations on purchasing {title} by {author} for ${price: .2f}\")\n",
    "        \n",
    "    def read(self, num_pages):\n",
    "        self.current_page += num_pages\n",
    "        if self.current_page >= self.num_of_pages:\n",
    "            print(f\"Congratulations on finishing {self.title}\")\n",
    "            self.current_page = 0\n",
    "        else:\n",
    "            print(f\"You are currently on page {self.current_page}. There are {self.num_of_pages - self.current_pages} pages left.)\n",
    "                  \n",
    "book = Book(\"The Midnight Library\", \"Matt Haig\", 288, 26.00)\n",
    "book.read(45)\n",
    "book.read(59)\n",
    "book.read(42)\n",
    "book.read(84)\n",
    "book.read(62)"
   ]
  },
  {
   "cell_type": "code",
   "execution_count": 17,
   "metadata": {},
   "outputs": [
    {
     "ename": "NameError",
     "evalue": "name 'read' is not defined",
     "output_type": "error",
     "traceback": [
      "\u001b[1;31m---------------------------------------------------------------------------\u001b[0m",
      "\u001b[1;31mNameError\u001b[0m                                 Traceback (most recent call last)",
      "\u001b[1;32m~\\AppData\\Local\\Temp\\ipykernel_2428\\980688362.py\u001b[0m in \u001b[0;36m<module>\u001b[1;34m\u001b[0m\n\u001b[0;32m      1\u001b[0m \u001b[0mbook\u001b[0m \u001b[1;33m=\u001b[0m \u001b[0mBook\u001b[0m\u001b[1;33m(\u001b[0m\u001b[1;34m\"The Midnight Library\"\u001b[0m\u001b[1;33m,\u001b[0m \u001b[1;34m\"Matt Haig\"\u001b[0m\u001b[1;33m,\u001b[0m \u001b[1;36m288\u001b[0m\u001b[1;33m,\u001b[0m \u001b[1;36m26.00\u001b[0m\u001b[1;33m)\u001b[0m\u001b[1;33m\u001b[0m\u001b[1;33m\u001b[0m\u001b[0m\n\u001b[1;32m----> 2\u001b[1;33m \u001b[0mbook\u001b[0m\u001b[1;33m.\u001b[0m\u001b[0mread\u001b[0m\u001b[1;33m(\u001b[0m\u001b[1;36m45\u001b[0m\u001b[1;33m)\u001b[0m\u001b[1;33m\u001b[0m\u001b[1;33m\u001b[0m\u001b[0m\n\u001b[0m\u001b[0;32m      3\u001b[0m \u001b[0mbook\u001b[0m\u001b[1;33m.\u001b[0m\u001b[0mread\u001b[0m\u001b[1;33m(\u001b[0m\u001b[1;36m59\u001b[0m\u001b[1;33m)\u001b[0m\u001b[1;33m\u001b[0m\u001b[1;33m\u001b[0m\u001b[0m\n\u001b[0;32m      4\u001b[0m \u001b[0mbook\u001b[0m\u001b[1;33m.\u001b[0m\u001b[0mread\u001b[0m\u001b[1;33m(\u001b[0m\u001b[1;36m42\u001b[0m\u001b[1;33m)\u001b[0m\u001b[1;33m\u001b[0m\u001b[1;33m\u001b[0m\u001b[0m\n\u001b[0;32m      5\u001b[0m \u001b[0mbook\u001b[0m\u001b[1;33m.\u001b[0m\u001b[0mread\u001b[0m\u001b[1;33m(\u001b[0m\u001b[1;36m84\u001b[0m\u001b[1;33m)\u001b[0m\u001b[1;33m\u001b[0m\u001b[1;33m\u001b[0m\u001b[0m\n",
      "\u001b[1;32m~\\AppData\\Local\\Temp\\ipykernel_2428\\982068211.py\u001b[0m in \u001b[0;36mread\u001b[1;34m(self, num)\u001b[0m\n\u001b[0;32m     11\u001b[0m         \u001b[0munit_increase\u001b[0m \u001b[1;33m=\u001b[0m \u001b[0mnum\u001b[0m \u001b[1;33m+\u001b[0m \u001b[0mcurrent_page\u001b[0m\u001b[1;33m\u001b[0m\u001b[1;33m\u001b[0m\u001b[0m\n\u001b[0;32m     12\u001b[0m         \u001b[0mself\u001b[0m\u001b[1;33m.\u001b[0m\u001b[0mnum_of_pages\u001b[0m \u001b[1;33m+=\u001b[0m \u001b[0munit_increase\u001b[0m\u001b[1;33m\u001b[0m\u001b[1;33m\u001b[0m\u001b[0m\n\u001b[1;32m---> 13\u001b[1;33m         \u001b[0mprint\u001b[0m\u001b[1;33m(\u001b[0m\u001b[1;34mf\"Congratulations on purchasing {self.title} by {self.author}. you are on page {read}\"\u001b[0m\u001b[1;33m)\u001b[0m\u001b[1;33m\u001b[0m\u001b[1;33m\u001b[0m\u001b[0m\n\u001b[0m",
      "\u001b[1;31mNameError\u001b[0m: name 'read' is not defined"
     ]
    }
   ],
   "source": [
    "book = Book(\"The Midnight Library\", \"Matt Haig\", 288, 26.00)\n",
    "book.read(45)\n",
    "book.read(59)\n",
    "book.read(42)\n",
    "book.read(84)\n",
    "book.read(62)"
   ]
  },
  {
   "cell_type": "markdown",
   "metadata": {},
   "source": [
    "## Dunder Methods"
   ]
  },
  {
   "cell_type": "markdown",
   "metadata": {},
   "source": [
    "#### \\__str\\__()"
   ]
  },
  {
   "cell_type": "code",
   "execution_count": 20,
   "metadata": {},
   "outputs": [
    {
     "name": "stdout",
     "output_type": "stream",
     "text": [
      "green Toyota Corolla\n",
      "red Ford Mustang\n"
     ]
    }
   ],
   "source": [
    "class Car:\n",
    "    def __init__(self, color, make, model):\n",
    "        self.color = color\n",
    "        self.make = make\n",
    "        self.model = model\n",
    "    def __str__(self):\n",
    "        return f\"{self.color} {self.make} {self.model}\"\n",
    "    def __repr__(self):\n",
    "        return f\"{self.name}:{self.species}\"\n",
    "        \n",
    "car1 = Car('green', 'Toyota', 'Corolla')\n",
    "car2 = Car('red', 'Ford', 'Mustang')\n",
    "\n",
    "print(car1)\n",
    "print(car2)"
   ]
  },
  {
   "cell_type": "code",
   "execution_count": 21,
   "metadata": {},
   "outputs": [
    {
     "name": "stdout",
     "output_type": "stream",
     "text": [
      "Do you like my new red Ford Mustang?\n"
     ]
    }
   ],
   "source": [
    "print(f\"Do you like my new {car2}?\")"
   ]
  },
  {
   "cell_type": "code",
   "execution_count": 22,
   "metadata": {},
   "outputs": [
    {
     "data": {
      "text/plain": [
       "'red Ford Mustang'"
      ]
     },
     "execution_count": 22,
     "metadata": {},
     "output_type": "execute_result"
    }
   ],
   "source": [
    "str(car2)"
   ]
  },
  {
   "cell_type": "markdown",
   "metadata": {},
   "source": [
    "#### \\__repr\\__()"
   ]
  },
  {
   "cell_type": "code",
   "execution_count": 23,
   "metadata": {
    "scrolled": true
   },
   "outputs": [
    {
     "name": "stdout",
     "output_type": "stream",
     "text": [
      "green Toyota Corolla\n",
      "red Ford Mustang\n"
     ]
    }
   ],
   "source": [
    "class Car:\n",
    "    def __init__(self, color, make, model):\n",
    "        self.color = color\n",
    "        self.make = make\n",
    "        self.model = model\n",
    "    def __str__(self):\n",
    "        return f\"{self.color} {self.make} {self.model}\"\n",
    "    def __repr__(self):\n",
    "        return f\"<Car | {self.make} {self.model}\"\n",
    "car1 = Car('green', 'Toyota', 'Corolla')\n",
    "car2 = Car('red', 'Ford', 'Mustang')\n",
    "\n",
    "print(car1)\n",
    "print(car2)"
   ]
  },
  {
   "cell_type": "code",
   "execution_count": 24,
   "metadata": {},
   "outputs": [
    {
     "data": {
      "text/plain": [
       "<Car | Toyota Corolla"
      ]
     },
     "execution_count": 24,
     "metadata": {},
     "output_type": "execute_result"
    }
   ],
   "source": [
    "car1"
   ]
  },
  {
   "cell_type": "code",
   "execution_count": 25,
   "metadata": {},
   "outputs": [
    {
     "data": {
      "text/plain": [
       "<Car | Ford Mustang"
      ]
     },
     "execution_count": 25,
     "metadata": {},
     "output_type": "execute_result"
    }
   ],
   "source": [
    "car2"
   ]
  },
  {
   "cell_type": "code",
   "execution_count": 26,
   "metadata": {},
   "outputs": [
    {
     "name": "stdout",
     "output_type": "stream",
     "text": [
      "<Car | Toyota Corolla\n",
      "<Car | Ford Mustang\n"
     ]
    }
   ],
   "source": [
    "class Car:\n",
    "    def __init__(self, color, make, model):\n",
    "        self.color = color\n",
    "        self.make = make\n",
    "        self.model = model\n",
    "\n",
    "    def __repr__(self):\n",
    "        return f\"<Car | {self.make} {self.model}\"\n",
    "car1 = Car('green', 'Toyota', 'Corolla')\n",
    "car2 = Car('red', 'Ford', 'Mustang')\n",
    "\n",
    "print(car1)\n",
    "print(car2)"
   ]
  },
  {
   "cell_type": "markdown",
   "metadata": {},
   "source": [
    "#### \\__lt\\__(), \\__lte\\__(), \\__eq\\__(), etc"
   ]
  },
  {
   "cell_type": "code",
   "execution_count": 27,
   "metadata": {},
   "outputs": [
    {
     "name": "stdout",
     "output_type": "stream",
     "text": [
      "Pen: $ 1.50 x 3\n",
      "Book: $ 26.00 x 1\n"
     ]
    }
   ],
   "source": [
    "class Product:\n",
    "    def __init__(self, name, price, quantity):\n",
    "        self.name = name\n",
    "        self.price = price\n",
    "        self.quantity = quantity\n",
    "        \n",
    "    def __str__(self):\n",
    "        return f\"{self.name}: ${self.price: .2f} x {self.quantity}\"\n",
    "    \n",
    "    def __repr__(self):\n",
    "        return f\"<Product | {self.name}>\"\n",
    "    \n",
    "    def __it__(self, other_prod):\n",
    "        own_total = self.price * self.quantity\n",
    "        other_total = other_prod.price * other_prod.quantity\n",
    "        return own_total < other_total\n",
    "    def __eq__(self, other_prod):\n",
    "        own_total = self.price * self.quantity\n",
    "        other_total = other_prod.price * other_prod.quantity\n",
    "        return own_total == other_total\n",
    "    def __le__()\n",
    "    \n",
    "prod1 = Product('Pen', 1.50, 3)\n",
    "print(prod1)\n",
    "prod2 = Product('Book', 26, 1)\n",
    "print(prod2)"
   ]
  },
  {
   "cell_type": "code",
   "execution_count": 29,
   "metadata": {},
   "outputs": [
    {
     "ename": "TypeError",
     "evalue": "'>' not supported between instances of 'Product' and 'Product'",
     "output_type": "error",
     "traceback": [
      "\u001b[1;31m---------------------------------------------------------------------------\u001b[0m",
      "\u001b[1;31mTypeError\u001b[0m                                 Traceback (most recent call last)",
      "\u001b[1;32m~\\AppData\\Local\\Temp\\ipykernel_2428\\2759029349.py\u001b[0m in \u001b[0;36m<module>\u001b[1;34m\u001b[0m\n\u001b[1;32m----> 1\u001b[1;33m \u001b[0mprod1\u001b[0m \u001b[1;33m>\u001b[0m \u001b[0mprod2\u001b[0m\u001b[1;33m\u001b[0m\u001b[1;33m\u001b[0m\u001b[0m\n\u001b[0m",
      "\u001b[1;31mTypeError\u001b[0m: '>' not supported between instances of 'Product' and 'Product'"
     ]
    }
   ],
   "source": []
  },
  {
   "cell_type": "code",
   "execution_count": null,
   "metadata": {},
   "outputs": [],
   "source": []
  },
  {
   "cell_type": "code",
   "execution_count": null,
   "metadata": {},
   "outputs": [],
   "source": []
  },
  {
   "cell_type": "code",
   "execution_count": null,
   "metadata": {},
   "outputs": [],
   "source": []
  },
  {
   "cell_type": "code",
   "execution_count": null,
   "metadata": {},
   "outputs": [],
   "source": []
  },
  {
   "cell_type": "markdown",
   "metadata": {},
   "source": [
    "#### In-class Exercise 1"
   ]
  },
  {
   "cell_type": "code",
   "execution_count": 30,
   "metadata": {},
   "outputs": [
    {
     "ename": "TypeError",
     "evalue": "__init__() takes 3 positional arguments but 4 were given",
     "output_type": "error",
     "traceback": [
      "\u001b[1;31m---------------------------------------------------------------------------\u001b[0m",
      "\u001b[1;31mTypeError\u001b[0m                                 Traceback (most recent call last)",
      "\u001b[1;32m~\\AppData\\Local\\Temp\\ipykernel_2428\\1011356657.py\u001b[0m in \u001b[0;36m<module>\u001b[1;34m\u001b[0m\n\u001b[0;32m     14\u001b[0m \u001b[1;33m\u001b[0m\u001b[0m\n\u001b[0;32m     15\u001b[0m \u001b[1;33m\u001b[0m\u001b[0m\n\u001b[1;32m---> 16\u001b[1;33m \u001b[0mleo\u001b[0m \u001b[1;33m=\u001b[0m \u001b[0mAnimal\u001b[0m\u001b[1;33m(\u001b[0m\u001b[1;34m'Leo'\u001b[0m\u001b[1;33m,\u001b[0m \u001b[1;34m'lion'\u001b[0m\u001b[1;33m,\u001b[0m \u001b[1;36m5\u001b[0m\u001b[1;33m)\u001b[0m\u001b[1;33m\u001b[0m\u001b[1;33m\u001b[0m\u001b[0m\n\u001b[0m\u001b[0;32m     17\u001b[0m \u001b[1;33m\u001b[0m\u001b[0m\n\u001b[0;32m     18\u001b[0m \u001b[0mprint\u001b[0m\u001b[1;33m(\u001b[0m\u001b[0mleo\u001b[0m\u001b[1;33m)\u001b[0m \u001b[1;31m# Leo the Lion\u001b[0m\u001b[1;33m\u001b[0m\u001b[1;33m\u001b[0m\u001b[0m\n",
      "\u001b[1;31mTypeError\u001b[0m: __init__() takes 3 positional arguments but 4 were given"
     ]
    }
   ],
   "source": [
    "# Create a class Animal that displays the name and species when printed\n",
    "class Animal:\n",
    "    legs = 4\n",
    "    \n",
    "    def __init__(self, name, species):\n",
    "        self.name = name\n",
    "        self.species = species\n",
    "        \n",
    "    def __str__(self):\n",
    "        return f\"{self.name} is a {self.species} and has {self.legs} legs\"\n",
    "    \n",
    "    def __repr__(self):\n",
    "        return f\"<{self.name}:{self.species}>\"\n",
    "        \n",
    "        \n",
    "\n",
    "leo = Animal('Leo', 'lion', )\n",
    "\n",
    "print(leo) # Leo the Lion\n",
    "\n",
    "\n",
    "buddy = Animal('Buddy', 'dog')\n",
    "leo # Buddy the Dog"
   ]
  },
  {
   "cell_type": "markdown",
   "metadata": {},
   "source": [
    "## Inheritance <br>\n",
    "<p>You can create a child-parent relationship between two classes by using inheritance. What this allows you to do is have overriding methods, but also inherit traits from the parent class. Think of it as an actual parent and child, the child will inherit the parent's genes, as will the classes in OOP</p>"
   ]
  },
  {
   "cell_type": "markdown",
   "metadata": {},
   "source": [
    "##### Syntax for Inheriting from a Parent Class"
   ]
  },
  {
   "cell_type": "code",
   "execution_count": 40,
   "metadata": {},
   "outputs": [
    {
     "name": "stdout",
     "output_type": "stream",
     "text": [
      "Length: 10 x Width: 20\n",
      "200\n",
      "=========================\n",
      "Length: 10 x Width: 10\n",
      "This is the Square area method\n",
      "100\n"
     ]
    }
   ],
   "source": [
    "# Syntax: class Child(Parent):\n",
    "\n",
    "class Rectangle: # Parent\n",
    "    sides = 4 # Class Attribute\n",
    "    \n",
    "    def __init__(self, length, width):\n",
    "        self.length = length\n",
    "        self.width = width\n",
    "        \n",
    "    def __str__(self):\n",
    "        return f\"Length: {self.length} x Width: {self.width}\"\n",
    "    \n",
    "    def area(self):\n",
    "        return self.length * self.width\n",
    "    \n",
    "class Square(Rectangle):\n",
    "    def area(self):\n",
    "        print('This is the Square area method')\n",
    "        return self.length ** 2\n",
    "\n",
    "\n",
    "\n",
    "my_rectangle = Rectangle(10, 20)\n",
    "print(my_rectangle)\n",
    "print(my_rectangle.area())\n",
    "print('='*25)\n",
    "my_square = Square(10, 10)\n",
    "print(my_square)\n",
    "print(my_square.area())"
   ]
  },
  {
   "cell_type": "code",
   "execution_count": null,
   "metadata": {},
   "outputs": [],
   "source": []
  },
  {
   "cell_type": "markdown",
   "metadata": {},
   "source": [
    "##### The \\__init\\__() Method for a Child Class - super()"
   ]
  },
  {
   "cell_type": "code",
   "execution_count": 42,
   "metadata": {
    "scrolled": true
   },
   "outputs": [
    {
     "name": "stdout",
     "output_type": "stream",
     "text": [
      "This is the Rectangle __init__ method\n",
      "Length: 10 x Width: 20\n",
      "200\n",
      "=========================\n"
     ]
    },
    {
     "ename": "TypeError",
     "evalue": "__init__() takes 2 positional arguments but 3 were given",
     "output_type": "error",
     "traceback": [
      "\u001b[1;31m---------------------------------------------------------------------------\u001b[0m",
      "\u001b[1;31mTypeError\u001b[0m                                 Traceback (most recent call last)",
      "\u001b[1;32m~\\AppData\\Local\\Temp\\ipykernel_2428\\4208495285.py\u001b[0m in \u001b[0;36m<module>\u001b[1;34m\u001b[0m\n\u001b[0;32m     24\u001b[0m \u001b[0mprint\u001b[0m\u001b[1;33m(\u001b[0m\u001b[0mmy_rectangle\u001b[0m\u001b[1;33m.\u001b[0m\u001b[0marea\u001b[0m\u001b[1;33m(\u001b[0m\u001b[1;33m)\u001b[0m\u001b[1;33m)\u001b[0m\u001b[1;33m\u001b[0m\u001b[1;33m\u001b[0m\u001b[0m\n\u001b[0;32m     25\u001b[0m \u001b[0mprint\u001b[0m\u001b[1;33m(\u001b[0m\u001b[1;34m'='\u001b[0m\u001b[1;33m*\u001b[0m\u001b[1;36m25\u001b[0m\u001b[1;33m)\u001b[0m\u001b[1;33m\u001b[0m\u001b[1;33m\u001b[0m\u001b[0m\n\u001b[1;32m---> 26\u001b[1;33m \u001b[0mmy_square\u001b[0m \u001b[1;33m=\u001b[0m \u001b[0mSquare\u001b[0m\u001b[1;33m(\u001b[0m\u001b[1;36m10\u001b[0m\u001b[1;33m,\u001b[0m \u001b[1;36m10\u001b[0m\u001b[1;33m)\u001b[0m\u001b[1;33m\u001b[0m\u001b[1;33m\u001b[0m\u001b[0m\n\u001b[0m\u001b[0;32m     27\u001b[0m \u001b[0mprint\u001b[0m\u001b[1;33m(\u001b[0m\u001b[0mmy_square\u001b[0m\u001b[1;33m)\u001b[0m\u001b[1;33m\u001b[0m\u001b[1;33m\u001b[0m\u001b[0m\n\u001b[0;32m     28\u001b[0m \u001b[0mprint\u001b[0m\u001b[1;33m(\u001b[0m\u001b[0mmy_square\u001b[0m\u001b[1;33m.\u001b[0m\u001b[0marea\u001b[0m\u001b[1;33m(\u001b[0m\u001b[1;33m)\u001b[0m\u001b[1;33m)\u001b[0m\u001b[1;33m\u001b[0m\u001b[1;33m\u001b[0m\u001b[0m\n",
      "\u001b[1;31mTypeError\u001b[0m: __init__() takes 2 positional arguments but 3 were given"
     ]
    }
   ],
   "source": [
    "class Rectangle: # Parent\n",
    "    sides = 4 # Class Attribute\n",
    "    \n",
    "    def __init__(self, length, width):\n",
    "        print('This is the Rectangle __init__ method')\n",
    "        self.length = length\n",
    "        self.width = width\n",
    "        \n",
    "    def __str__(self):\n",
    "        return f\"Length: {self.length} x Width: {self.width}\"\n",
    "    \n",
    "    def area(self):\n",
    "        return self.length * self.width\n",
    "    \n",
    "class Square(Rectangle):\n",
    "    \n",
    "    def __init__(self, side):\n",
    "        print('This is the Square __init__ method')\n",
    "        super().__init__(side, side)\n",
    "\n",
    "\n",
    "my_rectangle = Rectangle(10, 20)\n",
    "print(my_rectangle)\n",
    "print(my_rectangle.area())\n",
    "print('='*25)\n",
    "my_square = Square(10, 10)\n",
    "print(my_square)\n",
    "print(my_square.area())"
   ]
  },
  {
   "cell_type": "code",
   "execution_count": null,
   "metadata": {},
   "outputs": [],
   "source": []
  },
  {
   "cell_type": "code",
   "execution_count": 44,
   "metadata": {
    "scrolled": true
   },
   "outputs": [
    {
     "name": "stdout",
     "output_type": "stream",
     "text": [
      "This is the Triangle __init__ method\n",
      "This is the Rectangle __init__ method\n",
      "Length: 10 x Width: 5\n"
     ]
    }
   ],
   "source": [
    "class Triangle(Rectangle):\n",
    "    sides = 3\n",
    "    \n",
    "    def __init__(self, base, height):\n",
    "        print('This is the Triangle __init__ method')\n",
    "        super().__init__(base, height)\n",
    "        \n",
    "    def area(self):\n",
    "        print('this is triangle area method')\n",
    "        area = super().area()\n",
    "        return area / 2\n",
    "    \n",
    "my_triangle = Triangle(10, 5)\n",
    "print(my_triangle)"
   ]
  },
  {
   "cell_type": "code",
   "execution_count": 45,
   "metadata": {},
   "outputs": [
    {
     "name": "stdout",
     "output_type": "stream",
     "text": [
      "this is triangle area method\n"
     ]
    },
    {
     "data": {
      "text/plain": [
       "25.0"
      ]
     },
     "execution_count": 45,
     "metadata": {},
     "output_type": "execute_result"
    }
   ],
   "source": [
    "my_triangle.area()"
   ]
  },
  {
   "cell_type": "code",
   "execution_count": 46,
   "metadata": {},
   "outputs": [
    {
     "ename": "SyntaxError",
     "evalue": "EOL while scanning string literal (1789918440.py, line 6)",
     "output_type": "error",
     "traceback": [
      "\u001b[1;36m  File \u001b[1;32m\"C:\\Users\\fisch\\AppData\\Local\\Temp\\ipykernel_2428\\1789918440.py\"\u001b[1;36m, line \u001b[1;32m6\u001b[0m\n\u001b[1;33m    print(f\"{self.name} is eating)\u001b[0m\n\u001b[1;37m                                  ^\u001b[0m\n\u001b[1;31mSyntaxError\u001b[0m\u001b[1;31m:\u001b[0m EOL while scanning string literal\n"
     ]
    }
   ],
   "source": [
    "class Animal:\n",
    "    def __init__(self, name):\n",
    "        self.name = name\n",
    "        \n",
    "    def eat(self):\n",
    "        print(f\"{self.name} is eating)\n",
    "              \n",
    "class LandAnimal(Animal):\n",
    "    def run_around(self):\n",
    "        print(f\"{self.name} is going for a run\")\n",
    "              \n",
    "              \n",
    "class Dog(LandAnimal):\n",
    "    def go_for_a_walk(self):\n",
    "              print(f\"{self.name} is going for a walk)\n",
    "\n",
    "class Lion(LandAnimal):\n",
    "    def hunt(self):\n",
    "        print(f\"{self.name} is going for a hunt)"
   ]
  },
  {
   "cell_type": "markdown",
   "metadata": {},
   "source": [
    "#### In-class Exercise 2"
   ]
  },
  {
   "cell_type": "markdown",
   "metadata": {},
   "source": [
    "Create a Car class that has a drive and fill up method, and then create a Ford class that inherits from the car class."
   ]
  },
  {
   "cell_type": "code",
   "execution_count": 52,
   "metadata": {},
   "outputs": [
    {
     "name": "stdout",
     "output_type": "stream",
     "text": [
      "Blue Ford Focus\n",
      "The Blue Ford Focus is driving.\n",
      "The Blue Ford Focus is filling up.\n",
      "Ford\n",
      "The Blue Ford Focus is driving.\n",
      "The Blue Ford Focus is filling up.\n",
      "The Red Toyota Camry is driving.\n",
      "The Red Toyota Camry is filling up.\n"
     ]
    }
   ],
   "source": [
    "class Car:\n",
    "    \n",
    "    def __init__(self, color, make,model):\n",
    "        self.color = color\n",
    "        self.make = make\n",
    "        self.model = model\n",
    "        \n",
    "    def __str__(self):\n",
    "        return f\"{self.color} {self.make} {self.model}\".title()\n",
    "        \n",
    "    def drive(self):\n",
    "        print(f\"The {self} is driving.\")\n",
    "        \n",
    "    def fill_up(self):\n",
    "        print(f\"The {self} is filling up.\")\n",
    "        \n",
    "car = Car('Blue', 'Ford', 'Focus')\n",
    "print(car)\n",
    "car.drive()\n",
    "car.fill_up()\n",
    "\n",
    "\n",
    "class Ford(Car):\n",
    "    \n",
    "    def __init__(self, color, model):\n",
    "        super().__init__(color, 'Ford', model)\n",
    "              \n",
    "    def drive(self):\n",
    "        drive = super().drive()\n",
    "\n",
    "my_car = Ford('blue', 'Focus')\n",
    "\n",
    "print(my_car.make) # 'Ford'\n",
    "\n",
    "my_car.drive() # 'blue Ford Focus is driving'\n",
    "\n",
    "my_car.fill_up() # 'Filling up blue Ford Focus'\n",
    "\n",
    "class Toyota(Car):\n",
    "    def __init__(self, color, model):\n",
    "        super().__init__(color, 'Toyota', model)\n",
    "\n",
    "my_other_car = Toyota('red', 'Camry')\n",
    "\n",
    "my_other_car.drive()\n",
    "my_other_car.fill_up()\n"
   ]
  },
  {
   "cell_type": "markdown",
   "metadata": {},
   "source": [
    "## Modules"
   ]
  },
  {
   "cell_type": "markdown",
   "metadata": {},
   "source": [
    "##### Importing Entire Modules"
   ]
  },
  {
   "cell_type": "code",
   "execution_count": 54,
   "metadata": {},
   "outputs": [
    {
     "name": "stdout",
     "output_type": "stream",
     "text": [
      "<module 'math' (built-in)>\n",
      "3.141592653589793\n",
      "120\n"
     ]
    }
   ],
   "source": [
    "# import name_of_module\n",
    "\n",
    "import math\n",
    "\n",
    "print(math)\n",
    "\n",
    "print(math.pi)\n",
    "print(math.factorial(5))"
   ]
  },
  {
   "cell_type": "markdown",
   "metadata": {},
   "source": [
    "##### Importing Methods Only"
   ]
  },
  {
   "cell_type": "code",
   "execution_count": 55,
   "metadata": {},
   "outputs": [
    {
     "name": "stdout",
     "output_type": "stream",
     "text": [
      "<function mean at 0x000002890E0780D0>\n",
      "<function median at 0x000002890E078310>\n"
     ]
    },
    {
     "ename": "NameError",
     "evalue": "name 'statistics' is not defined",
     "output_type": "error",
     "traceback": [
      "\u001b[1;31m---------------------------------------------------------------------------\u001b[0m",
      "\u001b[1;31mNameError\u001b[0m                                 Traceback (most recent call last)",
      "\u001b[1;32m~\\AppData\\Local\\Temp\\ipykernel_2428\\918899431.py\u001b[0m in \u001b[0;36m<module>\u001b[1;34m\u001b[0m\n\u001b[0;32m      6\u001b[0m \u001b[0mprint\u001b[0m\u001b[1;33m(\u001b[0m\u001b[0mmedian\u001b[0m\u001b[1;33m)\u001b[0m\u001b[1;33m\u001b[0m\u001b[1;33m\u001b[0m\u001b[0m\n\u001b[0;32m      7\u001b[0m \u001b[1;33m\u001b[0m\u001b[0m\n\u001b[1;32m----> 8\u001b[1;33m \u001b[0mprint\u001b[0m\u001b[1;33m(\u001b[0m\u001b[0mstatistics\u001b[0m\u001b[1;33m)\u001b[0m\u001b[1;33m\u001b[0m\u001b[1;33m\u001b[0m\u001b[0m\n\u001b[0m",
      "\u001b[1;31mNameError\u001b[0m: name 'statistics' is not defined"
     ]
    }
   ],
   "source": [
    "# from module_name import class, function, constant, etc.\n",
    "\n",
    "from statistics import mean, median\n",
    "\n",
    "print(mean)\n",
    "print(median)\n",
    "\n",
    "print(statistics)"
   ]
  },
  {
   "cell_type": "markdown",
   "metadata": {},
   "source": [
    "##### Using the 'as' Keyword"
   ]
  },
  {
   "cell_type": "code",
   "execution_count": 56,
   "metadata": {},
   "outputs": [
    {
     "name": "stdout",
     "output_type": "stream",
     "text": [
      "<bound method Random.randint of <random.Random object at 0x0000028909AC6F60>>\n",
      "27\n"
     ]
    }
   ],
   "source": [
    "# import module as new_name\n",
    "# from module import function as f\n",
    "from random import randint as ri\n",
    "\n",
    "print(ri)\n",
    "print(ri(1,100))\n"
   ]
  },
  {
   "cell_type": "code",
   "execution_count": null,
   "metadata": {},
   "outputs": [],
   "source": [
    "import numpy as np\n",
    "import pandas as pd\n",
    "import matplotlib.pyplot as plt\n",
    "\n"
   ]
  },
  {
   "cell_type": "code",
   "execution_count": 58,
   "metadata": {},
   "outputs": [
    {
     "name": "stdout",
     "output_type": "stream",
     "text": [
      "<module 'collections' from 'C:\\\\Users\\\\fisch\\\\anaconda3\\\\lib\\\\collections\\\\__init__.py'>\n",
      "Counter({'e': 4, ' ': 4, 'l': 2, 'm': 2, 'H': 1, 'o': 1, 'y': 1, 'n': 1, 'a': 1, 'i': 1, 's': 1, 'd': 1, 'r': 1, 'k': 1})\n"
     ]
    }
   ],
   "source": [
    "import collections as c\n",
    "\n",
    "print(c)\n",
    "\n",
    "test = c.Counter('Hello my name is derek')\n",
    "\n",
    "print(test)"
   ]
  },
  {
   "cell_type": "code",
   "execution_count": null,
   "metadata": {},
   "outputs": [],
   "source": [
    "# Using VS Code\n"
   ]
  },
  {
   "cell_type": "code",
   "execution_count": null,
   "metadata": {},
   "outputs": [],
   "source": []
  },
  {
   "cell_type": "code",
   "execution_count": null,
   "metadata": {},
   "outputs": [],
   "source": []
  },
  {
   "cell_type": "code",
   "execution_count": null,
   "metadata": {},
   "outputs": [],
   "source": []
  },
  {
   "cell_type": "code",
   "execution_count": null,
   "metadata": {},
   "outputs": [],
   "source": []
  }
 ],
 "metadata": {
  "kernelspec": {
   "display_name": "Python 3 (ipykernel)",
   "language": "python",
   "name": "python3"
  },
  "language_info": {
   "codemirror_mode": {
    "name": "ipython",
    "version": 3
   },
   "file_extension": ".py",
   "mimetype": "text/x-python",
   "name": "python",
   "nbconvert_exporter": "python",
   "pygments_lexer": "ipython3",
   "version": "3.9.13"
  }
 },
 "nbformat": 4,
 "nbformat_minor": 2
}
